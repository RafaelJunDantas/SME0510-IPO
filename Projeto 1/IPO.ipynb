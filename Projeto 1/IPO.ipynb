{
  "nbformat": 4,
  "nbformat_minor": 0,
  "metadata": {
    "colab": {
      "provenance": []
    },
    "kernelspec": {
      "name": "python3",
      "display_name": "Python 3"
    },
    "language_info": {
      "name": "python"
    }
  },
  "cells": [
    {
      "cell_type": "code",
      "source": [
        "# caso precise, descomentar abaixo:\n",
        "# pip install scipy"
      ],
      "metadata": {
        "id": "IKNXD1JEZClC"
      },
      "execution_count": null,
      "outputs": []
    },
    {
      "cell_type": "code",
      "execution_count": null,
      "metadata": {
        "id": "XkeeO5nZFcKd"
      },
      "outputs": [],
      "source": [
        "import pandas as pd \n",
        "import numpy as np \n",
        "import scipy.optimize as opt"
      ]
    },
    {
      "cell_type": "markdown",
      "source": [
        "min t23\n",
        "\n",
        "s.a.\n",
        "\n",
        "$$\n",
        "-1t1 + 1t2 \\geq 3\n",
        "$$\n",
        "\n",
        "$$\n",
        "-1t2 + 1t3 \\geq 2\n",
        "$$\n",
        "\n",
        "$$\n",
        "-1t3 + 1t4 \\geq 1\n",
        "$$\n",
        "\n",
        "$$\n",
        "-1t4 + 1t5 \\geq 1\n",
        "$$\n",
        "\n",
        "$$\n",
        "-1t5 + 1t6 \\geq 1\n",
        "$$\n",
        "\n",
        "$$\n",
        "-1t6 + 1t7 \\geq 2\n",
        "$$\n",
        "\n",
        "$$\n",
        "-1t7 + 1t8 \\geq 1\n",
        "$$\n",
        "\n",
        "$$\n",
        "-1t8 + 1t9 \\geq 2\n",
        "$$\n",
        "\n",
        "$$\n",
        "-1t9 + 1t10 \\geq 1\n",
        "$$\n",
        "\n",
        "$$\n",
        "-1t11 + 1t12 \\geq 1\n",
        "$$\n",
        "\n",
        "$$\n",
        "  -1t12 + 1t13 \\geq 2\n",
        "$$\n",
        "\n",
        "$$\n",
        "  -1t13 + 1t14 \\geq 1\n",
        "$$\n",
        "\n",
        "$$\n",
        "  -1t14 + 1t15 \\geq 4\n",
        "$$\n",
        "\n",
        "$$\n",
        "  -1t10 + 1t16 \\geq 3\n",
        "$$\n",
        "\n",
        "$$\n",
        "  -1t15 + 1t16 \\geq 3 \n",
        "$$\n",
        "\n",
        "$$\n",
        "  -1t16 + 1t17 \\geq 2\n",
        "$$\n",
        "\n",
        "$$\n",
        "  -1t18 + 1t19 \\geq 2\n",
        "$$\n",
        "\n",
        "$$\n",
        "  -1t17 + 1t20 \\geq 3\n",
        "$$\n",
        "\n",
        "$$\n",
        "  -1t19 + 1t20 \\geq 3\n",
        "$$\n",
        "\n",
        "$$\n",
        "  -1t20 + 1t21 \\geq 1\n",
        "$$\n",
        "\n",
        "$$\n",
        "  -1t21 + 1t22 \\geq 3\n",
        "$$\n",
        "\n",
        "$$\n",
        "  -1t22 + 1t23 \\geq 3\n",
        "$$\n",
        "\n",
        "$$\n",
        "  t1, t2, t3, t4, t5, t6, t7 , t8, t9, t10 ,t11 , t12, t13, t14 ,t15 , t16, t17, t18 ,t19 , t20, t21, t22 ,t23 \\geq 0  \n",
        "$$"
      ],
      "metadata": {
        "id": "PwwFBXgrJ12X"
      }
    },
    {
      "cell_type": "code",
      "source": [
        "# cria uma matriz A de zeros com 22 linhas e 23 colunas\n",
        "A = np.zeros( ( 22,23) )"
      ],
      "metadata": {
        "id": "MWBbi3iXF8BG"
      },
      "execution_count": null,
      "outputs": []
    },
    {
      "cell_type": "code",
      "source": [
        "# cria uma matriz b de zeros com 22 linhas e 1 coluna\n",
        "b = np.zeros( (22, ))"
      ],
      "metadata": {
        "id": "jBWeTXzCFp2P"
      },
      "execution_count": null,
      "outputs": []
    },
    {
      "cell_type": "code",
      "source": [
        "# alteramos os valores que nao sao zero das matrizes A e b \n",
        "A[  0,  0] = -1.0; A[  0,  1] = 1.0; b[ 0] = 3\n",
        "A[  1,  1] = -1.0; A[  1,  2] = 1.0; b[ 1] = 2\n",
        "A[  2,  2] = -1.0; A[  2,  3] = 1.0; b[ 2] = 1 \n",
        "A[  3,  3] = -1.0; A[  3,  4] = 1.0; b[ 3] = 1\n",
        "A[  4,  4] = -1.0; A[  4,  5] = 1.0; b[ 4] = 1\n",
        "A[  5,  5] = -1.0; A[  5,  6] = 1.0; b[ 5] = 2 \n",
        "A[  6,  6] = -1.0; A[  6,  7] = 1.0; b[ 6] = 1\n",
        "A[  7,  7] = -1.0; A[  7,  8] = 1.0; b[ 7] = 2\n",
        "A[  8,  8] = -1.0; A[  8,  9] = 1.0; b[ 8] = 1\n",
        "A[  9, 10] = -1.0; A[  9, 11] = 1.0; b[ 9] = 1 \n",
        "A[ 10, 11] = -1.0; A[ 10, 12] = 1.0; b[10] = 2\n",
        "A[ 11, 12] = -1.0; A[ 11, 13] = 1.0; b[11] = 1 \n",
        "A[ 12, 13] = -1.0; A[ 12, 14] = 1.0; b[12] = 4\n",
        "A[ 13,  9] = -1.0; A[ 13, 15] = 1.0; b[13] = 3\n",
        "A[ 14, 14] = -1.0; A[ 14, 15] = 1.0; b[14] = 3 \n",
        "A[ 15, 15] = -1.0; A[ 15, 16] = 1.0; b[15] = 2 \n",
        "A[ 16, 17] = -1.0; A[ 16, 18] = 1.0; b[16] = 2 \n",
        "A[ 17, 16] = -1.0; A[ 17, 19] = 1.0; b[17] = 3\n",
        "A[ 18, 18] = -1.0; A[ 18, 19] = 1.0; b[18] = 3 \n",
        "A[ 19, 19] = -1.0; A[ 19, 20] = 1.0; b[19] = 1\n",
        "A[ 20, 20] = -1.0; A[ 20, 21] = 1.0; b[20] = 3\n",
        "A[ 21, 21] = -1.0; A[ 21, 22] = 1.0; b[21] = 3\n",
        "\n",
        "# apos as alteracoes, as matrizes A e b ficam da seguinte forma:\n",
        "\n",
        "# A = [\n",
        "#      [-1.  1.  0.  0.  0.  0.  0.  0.  0.  0.  0.  0.  0.  0.  0.  0.  0.  0. 0.  0.  0.  0.  0.]\n",
        "#      [ 0. -1.  1.  0.  0.  0.  0.  0.  0.  0.  0.  0.  0.  0.  0.  0.  0.  0. 0.  0.  0.  0.  0.]\n",
        "#      [ 0.  0. -1.  1.  0.  0.  0.  0.  0.  0.  0.  0.  0.  0.  0.  0.  0.  0. 0.  0.  0.  0.  0.]\n",
        "#      [ 0.  0.  0. -1.  1.  0.  0.  0.  0.  0.  0.  0.  0.  0.  0.  0.  0.  0. 0.  0.  0.  0.  0.]\n",
        "#      [ 0.  0.  0.  0. -1.  1.  0.  0.  0.  0.  0.  0.  0.  0.  0.  0.  0.  0. 0.  0.  0.  0.  0.]\n",
        "#      [ 0.  0.  0.  0.  0. -1.  1.  0.  0.  0.  0.  0.  0.  0.  0.  0.  0.  0. 0.  0.  0.  0.  0.]\n",
        "#      [ 0.  0.  0.  0.  0.  0. -1.  1.  0.  0.  0.  0.  0.  0.  0.  0.  0.  0. 0.  0.  0.  0.  0.]\n",
        "#      [ 0.  0.  0.  0.  0.  0.  0. -1.  1.  0.  0.  0.  0.  0.  0.  0.  0.  0. 0.  0.  0.  0.  0.]\n",
        "#      [ 0.  0.  0.  0.  0.  0.  0.  0. -1.  1.  0.  0.  0.  0.  0.  0.  0.  0. 0.  0.  0.  0.  0.]\n",
        "#      [ 0.  0.  0.  0.  0.  0.  0.  0.  0.  0. -1.  1.  0.  0.  0.  0.  0.  0. 0.  0.  0.  0.  0.]\n",
        "#      [ 0.  0.  0.  0.  0.  0.  0.  0.  0.  0.  0. -1.  1.  0.  0.  0.  0.  0. 0.  0.  0.  0.  0.]\n",
        "#      [ 0.  0.  0.  0.  0.  0.  0.  0.  0.  0.  0.  0. -1.  1.  0.  0.  0.  0. 0.  0.  0.  0.  0.]\n",
        "#      [ 0.  0.  0.  0.  0.  0.  0.  0.  0.  0.  0.  0.  0. -1.  1.  0.  0.  0. 0.  0.  0.  0.  0.]\n",
        "#      [ 0.  0.  0.  0.  0.  0.  0.  0.  0. -1.  0.  0.  0.  0.  0.  1.  0.  0. 0.  0.  0.  0.  0.]\n",
        "#      [ 0.  0.  0.  0.  0.  0.  0.  0.  0.  0.  0.  0.  0.  0. -1.  1.  0.  0. 0.  0.  0.  0.  0.]\n",
        "#      [ 0.  0.  0.  0.  0.  0.  0.  0.  0.  0.  0.  0.  0.  0.  0. -1.  1.  0. 0.  0.  0.  0.  0.]\n",
        "#      [ 0.  0.  0.  0.  0.  0.  0.  0.  0.  0.  0.  0.  0.  0.  0.  0.  0. -1. 1.  0.  0.  0.  0.]\n",
        "#      [ 0.  0.  0.  0.  0.  0.  0.  0.  0.  0.  0.  0.  0.  0.  0.  0. -1.  0. 0.  1.  0.  0.  0.]\n",
        "#      [ 0.  0.  0.  0.  0.  0.  0.  0.  0.  0.  0.  0.  0.  0.  0.  0.  0.  0. -1. 1.  0.  0.  0.]\n",
        "#      [ 0.  0.  0.  0.  0.  0.  0.  0.  0.  0.  0.  0.  0.  0.  0.  0.  0.  0. 0. -1.  1.  0.  0.]\n",
        "#      [ 0.  0.  0.  0.  0.  0.  0.  0.  0.  0.  0.  0.  0.  0.  0.  0.  0.  0. 0.  0. -1.  1.  0.]\n",
        "#      [ 0.  0.  0.  0.  0.  0.  0.  0.  0.  0.  0.  0.  0.  0.  0.  0.  0.  0. 0.  0.  0. -1.  1.]\n",
        "#     ]\n",
        "\n",
        "# b = [3. 2. 1. 1. 1. 2. 1. 2. 1. 1. 2. 1. 4. 3. 3. 2. 2. 3. 3. 1. 3. 3.]"
      ],
      "metadata": {
        "id": "8jvo1fhnMDaM"
      },
      "execution_count": null,
      "outputs": []
    },
    {
      "cell_type": "code",
      "source": [
        "# criamos uma matriz c de zeros com 23 linhas e 1 coluna\n",
        "# alteramos o ultimo valor da matriz c por 1\n",
        "# como queremos minimizar o tempo de conclusao da ultima tarefa\n",
        "# a matriz c vai ser cheia de zeros, exceto a ultima linha (ultima tarefa)\n",
        "# min cx\n",
        "# cx = 0x1 + 0x2 + ... + 0x22 + 1x23\n",
        "c = np.zeros( ( 23, ))\n",
        "c[ -1] = 1"
      ],
      "metadata": {
        "id": "zkq2gYhJQNku"
      },
      "execution_count": null,
      "outputs": []
    },
    {
      "cell_type": "code",
      "source": [
        "# a funcao linprog vai receber quatro variaveis:\n",
        "# c -> a matriz de custo\n",
        "# A -> a matriz dos coeficientes das variaveis das restricoes de desigualdade \n",
        "# b -> o vetor de resultados das restricoes de desigualdade\n",
        "# bounds -> \"limite\" das variaveis (limite inferior e superior)\n",
        "# como a funcao linprog so aceita restricoes de menor igual ou igual\n",
        "# min cx\n",
        "# s.a. Ax <= b\n",
        "# devemos \"inverter\" (multiplicar por -1) a desigualdade de menor igual para maior igual\n",
        "# min cx\n",
        "# s.a. -Ax >= -b\n",
        "res = opt.linprog( c, -A, -b, bounds = (0, None))"
      ],
      "metadata": {
        "id": "IYbOv0dyQWV_"
      },
      "execution_count": null,
      "outputs": []
    },
    {
      "cell_type": "code",
      "source": [
        "# resultado mostra que a otimizacao foi realizada com sucesso (message: 'Optimization terminated successfully')\n",
        "# e foi possivel encontrar um resultado otimo (sucess: True)\n",
        "res"
      ],
      "metadata": {
        "colab": {
          "base_uri": "https://localhost:8080/"
        },
        "id": "EPahsVFOQe-B",
        "outputId": "846d74c3-ef06-4407-c763-b4fdcb65b646"
      },
      "execution_count": null,
      "outputs": [
        {
          "output_type": "execute_result",
          "data": {
            "text/plain": [
              "     con: array([], dtype=float64)\n",
              "     fun: 29.00000015727363\n",
              " message: 'Optimization terminated successfully.'\n",
              "     nit: 7\n",
              "   slack: array([ 7.55282548e-09,  5.45567280e-09,  6.94282143e-09,  6.80118273e-09,\n",
              "        8.10173884e-09,  6.10581097e-09,  1.07498295e-08,  6.28695496e-09,\n",
              "        6.52551613e-09,  9.84098359e-01,  8.56880367e-01,  8.36253097e-01,\n",
              "        1.22679060e+00, -6.65889033e-09,  1.11187929e+00,  3.38381412e-08,\n",
              "        4.64918625e+00,  2.03793391e-08,  7.70162763e+00,  2.27781882e-08,\n",
              "       -2.76450862e-10, -1.22793509e-09])\n",
              "  status: 0\n",
              " success: True\n",
              "       x: array([2.39188838e-08, 3.00000003e+00, 5.00000004e+00, 6.00000004e+00,\n",
              "       7.00000005e+00, 8.00000006e+00, 1.00000001e+01, 1.10000001e+01,\n",
              "       1.30000001e+01, 1.40000001e+01, 9.84098367e-01, 2.96819673e+00,\n",
              "       5.82507709e+00, 7.66133019e+00, 1.28881208e+01, 1.70000001e+01,\n",
              "       1.90000001e+01, 4.64918626e+00, 1.12983725e+01, 2.20000001e+01,\n",
              "       2.30000002e+01, 2.60000002e+01, 2.90000002e+01])"
            ]
          },
          "metadata": {},
          "execution_count": 27
        }
      ]
    },
    {
      "cell_type": "code",
      "source": [
        "# res.fun retorna o tempo em horas do inicio da ultima tarefa\n",
        "# (+5) -> tempo de conclusao da ultima tarefa\n",
        "# portanto, para saber o tempo total de producao, basta somar o tempo de inicio da ultima tarefa com o tempo de conclusao da mesma\n",
        "res.fun + 5"
      ],
      "metadata": {
        "colab": {
          "base_uri": "https://localhost:8080/"
        },
        "id": "1n1nbazJRO_N",
        "outputId": "35b6271b-61de-4e4c-8df6-23d2b1a76bb3"
      },
      "execution_count": null,
      "outputs": [
        {
          "output_type": "execute_result",
          "data": {
            "text/plain": [
              "34.00000015727363"
            ]
          },
          "metadata": {},
          "execution_count": 32
        }
      ]
    }
  ]
}