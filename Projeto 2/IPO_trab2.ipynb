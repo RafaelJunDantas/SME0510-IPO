{
  "cells": [
    {
      "cell_type": "code",
      "execution_count": null,
      "metadata": {
        "id": "Cgv6F1CBqxxy"
      },
      "outputs": [],
      "source": [
        "#se necessario descomentar para instalar\n",
        "#instalacao da biblioteca mip (foi necessario no colab)\n",
        "#pip install mip "
      ]
    },
    {
      "cell_type": "code",
      "execution_count": 2,
      "metadata": {
        "id": "lVcYrbeeqZ_6"
      },
      "outputs": [],
      "source": [
        "import mip\n",
        "import numpy as np\n",
        "import matplotlib.pyplot as pp"
      ]
    },
    {
      "cell_type": "code",
      "execution_count": 3,
      "metadata": {
        "id": "HOglRCQmrRfx"
      },
      "outputs": [],
      "source": [
        "#n -> numero de nos\n",
        "#(n^2 variaveis)\n",
        "n = 15\n",
        "\n",
        "#definomos uma seed para\n",
        "#sempre gerar os mesmos resultados\n",
        "\n",
        "np.random.seed(n**2)\n",
        "\n",
        "\n",
        "#cria os nos\n",
        "#nesse caso vao ser representados por pontos no plano cartesiano (x,y)\n",
        "nos = []\n",
        "\n",
        "#multiplicamos por 32 para ter valores mais \"reais\" do tema do problema\n",
        "for i in range(n):\n",
        "  nos.append(32 * np.random.normal( size = ( 2,)))\n",
        "\n",
        "#cria uma matriz n por n de 0\n",
        "c = np.zeros((n,n)) \n",
        "\n",
        "#cada posicao c[i][j] guarda a distancia entre os nos (i + 1) e (j + 1)\n",
        "#exemplo: c[0][2] -> distancia entre o no 1 e 3\n",
        "#a distancia entre o no e ele proprio e disconsiderado\n",
        "for i in range(n):\n",
        "  for j in range(i + 1, n):\n",
        "    c[i,j] = np.linalg.norm(nos[i] - nos[j]) #distancia euclidiana\n",
        "    c[j,i] = c[i,j]                          #custo de ida = ao custo de volta"
      ]
    },
    {
      "cell_type": "code",
      "execution_count": 4,
      "metadata": {
        "id": "exgKGiI2smdh"
      },
      "outputs": [],
      "source": [
        "#define o modelo para minimizar e escolhe qual solver\n",
        "m = mip.Model(sense = mip.MINIMIZE, solver_name = mip.CBC)\n",
        "\n",
        "#cria as variaveis x[i][j], i, j <= n\n",
        "#define as variaveis x como binarias \n",
        "#x[i][j] = 1 se passar pela aresta que liga o no[i] ao no[j]\n",
        "#x[i][j] = 0 caso contrario\n",
        "x = []\n",
        "for i in range(n):\n",
        "  x.append([m.add_var(var_type = mip.BINARY, name = 'x_(%i,%i)' % ( i + 1, j + 1 ))  for j in range(n)])\n",
        "\n",
        "#restricao 1 a n: todo no tem que ser visitado pelo menos 1 vez\n",
        "for j in range(n):\n",
        "  m += mip.xsum(x[i][j] for i in range(n)) >= 1\n",
        "\n",
        "#restricao (n + 1) a 2n: a aresta do no[i] para o no[j] e igual a aresta do no[j] para o no[i]\n",
        "#exemplo: se passou pela aresta[0][2], logo passou pela aresta[2][0] (nos nao direcionados)\n",
        "for j in range(n):\n",
        "  m += mip.xsum(x[i][j] for i in range(n)) == mip.xsum(x[j][i] for i in range(n))\n",
        "\n",
        "#funcao objetiva -> somatoria do custo de passar por todos os nos\n",
        "m.objective = mip.xsum(c[i,j] * x[i][j] for i in range(n) for j in range(n))"
      ]
    },
    {
      "cell_type": "code",
      "execution_count": 5,
      "metadata": {
        "id": "pybr1jQct2rB"
      },
      "outputs": [],
      "source": [
        "#subfuncao para excluir os subciclos (inpirado na feita em aula)\n",
        "def gera_subconjuntos(n,k):\n",
        "  if k==1:\n",
        "    retval = []\n",
        "    for i in range(n):\n",
        "      retval.append({i})\n",
        "    return retval\n",
        "\n",
        "  subsubs = gera_subconjuntos(n,k-1)\n",
        "  retval = []\n",
        "  for i in range(n):\n",
        "    for s in subsubs:\n",
        "      tmp = s.copy()\n",
        "      tmp.add(i)\n",
        "      if not tmp in retval:\n",
        "        retval.append(tmp)\n",
        "  return retval\n",
        "\n",
        "subconjuntos = gera_subconjuntos(n, int((n+1)/2))\n",
        "for s in subconjuntos:\n",
        "  m += mip.xsum(x[i][j] for i in s for j in s) <= len(s) - 1"
      ]
    },
    {
      "cell_type": "code",
      "execution_count": 6,
      "metadata": {
        "id": "qLythdRbwTmv"
      },
      "outputs": [],
      "source": [
        "m.write('test.lp')"
      ]
    },
    {
      "cell_type": "code",
      "execution_count": 7,
      "metadata": {
        "id": "_HPBtsaSwYy8"
      },
      "outputs": [
        {
          "name": "stdout",
          "output_type": "stream",
          "text": [
            "Welcome to the CBC MILP Solver \n",
            "Version: Trunk\n",
            "Build Date: Oct 24 2021 \n",
            "\n",
            "Starting solution of the Linear programming relaxation problem using Primal Simplex\n",
            "\n",
            "Clp0024I Matrix will be packed to eliminate 15 small elements\n",
            "Coin0506I Presolve 22833 (-15) rows, 210 (-15) columns and 860790 (-148635) elements\n",
            "Clp0030I 32 infeas 14.08581, obj 32.176238 - mu 0.01691816, its 105, 67 interior\n",
            "Clp0030I 36 infeas 12.915855, obj 128.87086 - mu 0.0056388228, its 105, 159 interior\n",
            "Clp0030I 39 infeas 11.220676, obj 174.01987 - mu 0.0018794197, its 105, 195 interior\n",
            "Clp0030I 41 infeas 10.718741, obj 194.04982 - mu 0.00062641057, its 105, 205 interior\n",
            "Clp0030I 43 infeas 10.448297, obj 218.25927 - mu 0.00020878264, its 105, 210 interior\n",
            "Clp0030I 45 infeas 9.958452, obj 247.07916 - mu 0.00020878264, its 105, 207 interior\n",
            "Clp0030I 47 infeas 9.6414333, obj 264.08591 - mu 6.9587255e-05, its 105, 201 interior\n",
            "Clp0030I 49 infeas 9.1713579, obj 294.81726 - mu 2.3193432e-05, its 105, 197 interior\n",
            "Clp0030I 51 infeas 9.0508623, obj 342.03014 - mu 2.3193432e-05, its 105, 195 interior\n",
            "Clp0030I 53 infeas 8.0824177, obj 359.4938 - mu 7.7303709e-06, its 105, 203 interior\n",
            "Clp0030I 55 infeas 7.5412354, obj 379.82335 - mu 2.5765326e-06, its 105, 210 interior\n",
            "Clp0030I 57 infeas 7.5014859, obj 402.90324 - mu 2.5765326e-06, its 105, 209 interior\n",
            "Clp0030I 59 infeas 7.2389452, obj 414.15196 - mu 8.5875832e-07, its 105, 209 interior\n",
            "Clp1000I sum of infeasibilities 7.23895 - average 0.000317039, 1 fixed columns\n",
            "Coin0506I Presolve 22832 (-1) rows, 209 (-1) columns and 856690 (-4100) elements\n",
            "Clp0006I 0  Obj 414.15196 Primal inf 7.2389152 (30) Dual inf 3.15e+14 (209)\n",
            "Clp0029I End of values pass after 209 iterations\n",
            "Clp0014I Perturbing problem by 0.001% of 5.4731608 - largest nonzero change 6.1959554e-05 ( 0.0011439983%) - largest zero change 1.8986656e-05\n",
            "Clp0000I Optimal - objective value 497.33632\n",
            "Clp0000I Optimal - objective value 497.33632\n",
            "Coin0511I After Postsolve, objective 497.33632, infeasibilities - dual 0 (0), primal 0 (0)\n",
            "Clp0006I 0  Obj 497.33632\n",
            "Clp0000I Optimal - objective value 497.33632\n",
            "Clp0000I Optimal - objective value 497.33632\n",
            "Clp0000I Optimal - objective value 497.33632\n",
            "Coin0511I After Postsolve, objective 497.33632, infeasibilities - dual 0 (0), primal 0 (0)\n",
            "Clp0032I Optimal objective 497.3363218 - 0 iterations time 11.452, Presolve 0.15, Idiot 11.28\n",
            "\n",
            "Starting MIP optimization\n",
            "Cgl0002I 15 variables fixed\n",
            "Cgl0004I processed model has 22833 rows, 210 columns (210 integer (210 of which binary)) and 860790 elements\n",
            "Coin3009W Conflict graph built in 0.017 seconds, density: 0.356%\n",
            "Cgl0015I Clique Strengthening extended 0 cliques, 0 were dominated\n",
            "Cbc0045I Nauty sparseSpace 1769768 affine 420 coefficient count 23464\n",
            "Cbc0045I Nauty did not find any useful orbits in time 0.167499\n",
            "Cbc0038I Initial state - 0 integers unsatisfied sum - 0\n",
            "Cbc0038I Solution found of 497.336\n",
            "Cbc0038I Before mini branch and bound, 210 integers at bound fixed and 0 continuous\n",
            "Cbc0038I Mini branch and bound did not improve solution (1.20 seconds)\n",
            "Cbc0038I After 1.20 seconds - Feasibility pump exiting with objective of 497.336 - took 0.12 seconds\n",
            "Cbc0012I Integer solution of 497.33632 found by feasibility pump after 0 iterations and 0 nodes (1.21 seconds)\n",
            "Cbc0001I Search completed - best objective 497.3363218417669, took 0 iterations and 0 nodes (1.27 seconds)\n",
            "Cbc0035I Maximum depth 0, 0 variables fixed on reduced cost\n",
            "Total time (CPU seconds):       1.55   (Wallclock seconds):       1.63\n",
            "\n",
            "OptimizationStatus.OPTIMAL\n"
          ]
        }
      ],
      "source": [
        "status = m.optimize()\n",
        "\n",
        "print(status)"
      ]
    },
    {
      "cell_type": "code",
      "execution_count": 8,
      "metadata": {
        "colab": {
          "base_uri": "https://localhost:8080/",
          "height": 265
        },
        "id": "AOoJbLBbxLkJ",
        "outputId": "493b5657-e354-4b4e-9532-404651065877"
      },
      "outputs": [
        {
          "data": {
            "image/png": "[encoded data removed]",
            "text/plain": [
              "<Figure size 640x480 with 1 Axes>"
            ]
          },
          "metadata": {},
          "output_type": "display_data"
        }
      ],
      "source": [
        "#utiliza a biblioteca matplotlib.pyplot \n",
        "#para gerar um grafico dos nos\n",
        "pp.figure()\n",
        "\n",
        "for pt in nos:\n",
        "    pp.scatter(pt[0],pt[1],c='k')\n",
        "\n",
        "for v in m.vars:\n",
        "    if v.x > 1e-5:\n",
        "        idx = [int(x) - 1 for x in v.name[3:-1].split(',') ]\n",
        "        o = nos[idx[0]]\n",
        "        d = nos[idx[1]]\n",
        "        pp.plot([o[0],d[0]],[o[1],d[1]],'r')\n",
        "        \n",
        "pp.show()"
      ]
    }
  ],
  "metadata": {
    "colab": {
      "provenance": []
    },
    "kernelspec": {
      "display_name": "Python 3.8.10 64-bit",
      "language": "python",
      "name": "python3"
    },
    "language_info": {
      "codemirror_mode": {
        "name": "ipython",
        "version": 3
      },
      "file_extension": ".py",
      "mimetype": "text/x-python",
      "name": "python",
      "nbconvert_exporter": "python",
      "pygments_lexer": "ipython3",
      "version": "3.8.10"
    },
    "vscode": {
      "interpreter": {
        "hash": "916dbcbb3f70747c44a77c7bcd40155683ae19c65e1c03b4aa3499c5328201f1"
      }
    }
  },
  "nbformat": 4,
  "nbformat_minor": 0
}
